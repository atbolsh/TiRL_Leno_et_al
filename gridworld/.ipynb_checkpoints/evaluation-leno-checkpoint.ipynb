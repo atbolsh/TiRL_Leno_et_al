{
 "cells": [
  {
   "cell_type": "code",
   "execution_count": null,
   "metadata": {
    "collapsed": false
   },
   "outputs": [],
   "source": [
    ",\n",
    "   [    \"-m goldmine -it 26 -a=QManualMapping -et=30 -te=reuseQ -n=4 -p=2 -de=4 -t 4500\",\n",
    "        \"-m goldmine -it 26 -a=QBias -et=30 -te=reuseQ -n=4 -p=2 -de=4 -t 4500\",\n",
    "        \"-m reward -it 26 -a=QManualMapping -et=30 -te=reuseQ -n=4 -p=2 -de=4 -t 4500\",\n",
    "        \"-m reward -it 26 -a=QBias -et=30 -te=reuseQ -n=4 -p=2 -de=4 -t 4500\",\n",
    "        \"-m reward -it 26 -a=QAverage -et=30 -te=reuseQ -n=4 -p=2 -de=4 -t 4500\",   \n",
    "        \"-m reward -it 26 -a=QLearning -et=30 -te=none -n=4 -p=2 -de=4 -t 4500\",\n",
    "        \"-m transition -it 50 -a=QManualMapping -et=53 -te=reuseQ -n=4 -p=2 -de=4 -t 4500\",\n",
    "        \"-m transition -it 54 -a=QManualMapping -et=57 -te=reuseQ -n=4 -p=2 -de=4 -t 4500\",\n",
    "   ],\n",
    "   [    \"-m transition -it 58 -a=QManualMapping -et=75 -te=reuseQ -n=4 -p=2 -de=4 -t 4500\",\n",
    "        \"-m transition -it 51 -a=QBias -et=75 -te=reuseQ -n=4 -p=2 -de=4 -t 4500\",\n",
    "        \"-m reward -it 31 -a=QManualMapping -et=50 -te=reuseQ -n=4 -p=2 -de=4 -t 4500\",\n",
    "        \"-m reward -it 31 -a=QBias -et=50 -te=reuseQ -n=4 -p=2 -de=4 -t 4500\",\n",
    "        \"-m reward -it 31 -a=QAverage -et=50 -te=reuseQ -n=4 -p=2 -de=4 -t 4500\",   \n",
    "        \"-m reward -it 31 -a=QLearning -et=50 -te=none -n=4 -p=2 -de=4 -t 4500\",\n",
    "        \"-m transition -it 51 -a=QAverage -et=75 -te=reuseQ -n=4 -p=2 -de=4 -t 4500\",\n",
    "        \"-m transition -it 51 -a=QLearning -et=75 -te=none -n=4 -p=2 -de=4 -t 4500\",\n",
    "   ]#matplotlib inline\n",
    "import os\n",
    "import numpy as np\n",
    "import matplotlib.pyplot as plt\n",
    "import seaborn as sns\n",
    "import pandas as pd\n",
    "from collections import defaultdict\n",
    "sns.set(style=\"darkgrid\")"
   ]
  },
  {
   "cell_type": "code",
   "execution_count": null,
   "metadata": {
    "collapsed": true
   },
   "outputs": [],
   "source": []
  },
  {
   "cell_type": "code",
   "execution_count": 1,
   "metadata": {
    "collapsed": false,
    "scrolled": false
   },
   "outputs": [
    {
     "name": "stdout",
     "output_type": "stream",
     "text": [
      "Could use 3 runs from expected 1000\n",
      "len(evalUsedBudgets) 81 --> <type 'list'> 10\n"
     ]
    },
    {
     "ename": "IndexError",
     "evalue": "list index out of range",
     "output_type": "error",
     "traceback": [
      "\u001b[0;31m---------------------------------------------------------------------------\u001b[0m",
      "\u001b[0;31mIndexError\u001b[0m                                Traceback (most recent call last)",
      "\u001b[0;32m<ipython-input-1-4e26081000dd>\u001b[0m in \u001b[0;36m<module>\u001b[0;34m()\u001b[0m\n\u001b[1;32m     20\u001b[0m \u001b[0;34m\u001b[0m\u001b[0m\n\u001b[1;32m     21\u001b[0m \u001b[0;34m\u001b[0m\u001b[0m\n\u001b[0;32m---> 22\u001b[0;31m \u001b[0mexp_utils\u001b[0m\u001b[0;34m.\u001b[0m\u001b[0mcollect_experiment_data\u001b[0m\u001b[0;34m(\u001b[0m\u001b[0msource1\u001b[0m\u001b[0;34m,\u001b[0m \u001b[0mruns\u001b[0m \u001b[0;34m=\u001b[0m \u001b[0;36m1000\u001b[0m\u001b[0;34m,\u001b[0m\u001b[0mhfo\u001b[0m\u001b[0;34m=\u001b[0m\u001b[0mFalse\u001b[0m\u001b[0;34m)\u001b[0m\u001b[0;34m\u001b[0m\u001b[0m\n\u001b[0m\u001b[1;32m     23\u001b[0m \u001b[0mexp_utils\u001b[0m\u001b[0;34m.\u001b[0m\u001b[0msummarize_experiment_data\u001b[0m\u001b[0;34m(\u001b[0m\u001b[0msource1\u001b[0m\u001b[0;34m,\u001b[0m\u001b[0mhfo\u001b[0m\u001b[0;34m=\u001b[0m\u001b[0mFalse\u001b[0m\u001b[0;34m)\u001b[0m\u001b[0;34m\u001b[0m\u001b[0m\n\u001b[1;32m     24\u001b[0m \u001b[0;31m#exp_utils.collect_experiment_data(source2, runs = 1000,hfo=False)\u001b[0m\u001b[0;34m\u001b[0m\u001b[0;34m\u001b[0m\u001b[0m\n",
      "\u001b[0;32m/home/leno/gitProjects/TiRL_Leno_et_al/gridworld/exp_utils.pyc\u001b[0m in \u001b[0;36mcollect_experiment_data\u001b[0;34m(source, runs, servers, agents, hfo)\u001b[0m\n\u001b[1;32m    147\u001b[0m                 \u001b[0;32mfor\u001b[0m \u001b[0mi\u001b[0m \u001b[0;32min\u001b[0m \u001b[0mrange\u001b[0m\u001b[0;34m(\u001b[0m\u001b[0mlen\u001b[0m\u001b[0;34m(\u001b[0m\u001b[0mevalUsedBudgets\u001b[0m\u001b[0;34m[\u001b[0m\u001b[0;34m(\u001b[0m\u001b[0magent\u001b[0m\u001b[0;34m,\u001b[0m\u001b[0mevalTrials\u001b[0m\u001b[0;34m[\u001b[0m\u001b[0mtrial\u001b[0m\u001b[0;34m]\u001b[0m\u001b[0;34m)\u001b[0m\u001b[0;34m]\u001b[0m\u001b[0;34m)\u001b[0m\u001b[0;34m)\u001b[0m\u001b[0;34m:\u001b[0m\u001b[0;34m\u001b[0m\u001b[0m\n\u001b[1;32m    148\u001b[0m                     \u001b[0;31m#try:\u001b[0m\u001b[0;34m\u001b[0m\u001b[0;34m\u001b[0m\u001b[0m\n\u001b[0;32m--> 149\u001b[0;31m                      \u001b[0mbudgetAvg\u001b[0m\u001b[0;34m[\u001b[0m\u001b[0mi\u001b[0m\u001b[0;34m]\u001b[0m \u001b[0;34m+=\u001b[0m \u001b[0mevalUsedBudgets\u001b[0m\u001b[0;34m[\u001b[0m\u001b[0;34m(\u001b[0m\u001b[0magent\u001b[0m\u001b[0;34m,\u001b[0m\u001b[0mevalTrials\u001b[0m\u001b[0;34m[\u001b[0m\u001b[0mtrial\u001b[0m\u001b[0;34m]\u001b[0m\u001b[0;34m)\u001b[0m\u001b[0;34m]\u001b[0m\u001b[0;34m[\u001b[0m\u001b[0mi\u001b[0m\u001b[0;34m]\u001b[0m\u001b[0;34m/\u001b[0m\u001b[0magents\u001b[0m\u001b[0;34m\u001b[0m\u001b[0m\n\u001b[0m\u001b[1;32m    150\u001b[0m                     \u001b[0;31m#except:\u001b[0m\u001b[0;34m\u001b[0m\u001b[0;34m\u001b[0m\u001b[0m\n\u001b[1;32m    151\u001b[0m                     \u001b[0;31m#    print i, len(evalUsedBudgets[(agent,evalTrials[trial])])\u001b[0m\u001b[0;34m\u001b[0m\u001b[0;34m\u001b[0m\u001b[0m\n",
      "\u001b[0;31mIndexError\u001b[0m: list index out of range"
     ]
    }
   ],
   "source": [
    "#from exp_utils import collect_experiment_data, summarize_experiment_data\n",
    "import exp_utils\n",
    "#source1 = '/home/ruben/playground/HFO/experiments/EVAL/2016_09_12-14.38.02_SARSA_1_5'\n",
    "\n",
    "printCI = True\n",
    "source1 = './log/Dummy-none-none'\n",
    "#source2 = '../log/QAverage-2-reuseQ-none'\n",
    "#source3 = '../log/QBias-2-reuseQ-none'\n",
    "#source4 = '../log/QManualMapping-2-reuseQ-none'\n",
    "#source5 = '/home/leno/gitProjects/TiRL_Leno_et_al/log/Dummy-2-none-none'\n",
    "\n",
    "\n",
    "\n",
    "\n",
    "name1 = 'Dummy'\n",
    "#name2 = 'QAverage'\n",
    "#name3 = 'QBias'\n",
    "#name4 = 'QManualMapping'\n",
    "#name5 = 'Random'\n",
    "\n",
    "\n",
    "exp_utils.collect_experiment_data(source1, runs = 1000,hfo=False)\n",
    "exp_utils.summarize_experiment_data(source1,hfo=False)\n",
    "#exp_utils.collect_experiment_data(source2, runs = 1000,hfo=False)\n",
    "#exp_utils.summarize_experiment_data(source2,hfo=False)\n",
    "#exp_utils.collect_experiment_data(source3, runs = 1000,hfo=False)\n",
    "#exp_utils.summarize_experiment_data(source3,hfo=False)\n",
    "#exp_utils.collect_experiment_data(source4, runs = 1000,hfo=False)\n",
    "#exp_utils.summarize_experiment_data(source4,hfo=False)\n",
    "#exp_utils.collect_experiment_data(source5, runs = 1000,hfo=False)\n",
    "#exp_utils.summarize_experiment_data(source5,hfo=False)\n",
    "\n",
    "\n",
    "\n",
    "xMinStep = None\n",
    "xMaxStep = None\n",
    "yMinStep = None\n",
    "yMaxStep = None\n",
    "\n",
    "xMinBudget = None\n",
    "xMaxBudget = None\n",
    "yMinBudget = None\n",
    "yMaxBudget = None\n",
    "\n",
    "\n",
    "\n",
    "exp_utils.draw_graph(source1=source1, #source2=source2, source3=source3,source4 = source4,#source5=source5,#,source6=source6,\n",
    "                     name1=name1,#name4=name4, name3=name3, name1=name1, name2=name2, \n",
    "                     ci=printCI,what=\"__SUMMARY_stepscaptured\"#, nCol=5\n",
    "                    )\n",
    "\n"
   ]
  },
  {
   "cell_type": "code",
   "execution_count": null,
   "metadata": {
    "collapsed": true
   },
   "outputs": [],
   "source": []
  }
 ],
 "metadata": {
  "anaconda-cloud": {},
  "kernelspec": {
   "display_name": "Python 2",
   "language": "python",
   "name": "python2"
  },
  "language_info": {
   "codemirror_mode": {
    "name": "ipython",
    "version": 2
   },
   "file_extension": ".py",
   "mimetype": "text/x-python",
   "name": "python",
   "nbconvert_exporter": "python",
   "pygments_lexer": "ipython2",
   "version": "2.7.13"
  }
 },
 "nbformat": 4,
 "nbformat_minor": 0
}
